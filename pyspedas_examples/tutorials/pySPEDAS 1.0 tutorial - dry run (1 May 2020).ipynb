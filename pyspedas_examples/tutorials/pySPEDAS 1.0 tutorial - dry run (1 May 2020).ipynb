{
 "cells": [
  {
   "cell_type": "markdown",
   "metadata": {},
   "source": [
    "# pySPEDAS 1.0 Tutorial\n",
    "\n",
    "Eric Grimes\n",
    "\n",
    "egrimes@igpp.ucla.edu\n",
    "\n",
    "# Introduction\n",
    "\n",
    "### Requirements\n",
    "\n",
    "- Python 3.5 or later\n",
    "\n",
    "### All of this depends on the hard work of the pyTplot developers at LASP\n",
    "To learn more about pytplot:\n",
    "\n",
    "https://pytplot.readthedocs.io/\n",
    "\n",
    "### Virtual Environments\n",
    "- Best to use them to avoid dependency issues; Python 3.5 and later make creating a virtual environment as simple as:\n",
    "\n",
    "`python -m venv pyspedas-tutorial`\n",
    "\n",
    "Then, to run the virtual environment, on Windows:\n",
    "\n",
    "`.\\pyspedas-tutorial\\Scripts\\activate`\n",
    "\n",
    "and on macOS / Linux:\n",
    "\n",
    "`source pyspedas-tutorial/bin/activate`\n",
    "\n",
    "To exit the current virtual environment, type `deactivate`\n",
    "\n",
    "### Installing pySPEDAS\n",
    "\n",
    "In your virtual environment, type:\n",
    "\n",
    "`pip install pyspedas`\n",
    "\n",
    "### Upgrade pySPEDAS\n",
    "\n",
    "`pip install pyspedas --upgrade`\n",
    "\n",
    "### pySPEDAS on GitHub\n",
    "\n",
    "https://github.com/spedas/pyspedas"
   ]
  },
  {
   "cell_type": "markdown",
   "metadata": {},
   "source": [
    "# Getting Started\n",
    "\n",
    "### Structure of the load routines\n",
    "The structure of the load routines follow:\n",
    "\n",
    "    pyspedas.mission.instrument()\n",
    "\n",
    "e.g., \n",
    "\n",
    "    pyspedas.mms.fgm()\n",
    "\n",
    "Data options are set via keywords passed to the load routines; e.g., \n",
    "\n",
    "    pyspedas.mms.fgm(trange=['2015-12-15', '2015-12-16'])\n",
    "\n",
    "these have defaults which should load some default data. \n",
    "\n",
    "These functions return the names of the tplot variables created. Note: some options change the return values, e.g., setting `notplot=True` will tell the load routine to return the variables in hash tables containing numpy arrays; `downloadonly=True` will return the names of the files downloaded.\n",
    "\n",
    "### Local data directory\n",
    "\n",
    "Your data directory can be set using the `SPEDAS_DATA_DIR` environment variable. Each mission also has its own data directory, e.g., `MMS_DATA_DIR`, `THM_DATA_DIR`, etc. Note: mission data directories will override the root data directory set in `SPEDAS_DATA_DIR`.\n",
    "\n",
    "### Importing pySPEDAS\n",
    "To get started, import pyspedas:\n"
   ]
  },
  {
   "cell_type": "code",
   "execution_count": 1,
   "metadata": {},
   "outputs": [],
   "source": [
    "import pyspedas"
   ]
  },
  {
   "cell_type": "markdown",
   "metadata": {},
   "source": [
    "You can also access the load routines by importing the mission modules:"
   ]
  },
  {
   "cell_type": "code",
   "execution_count": 2,
   "metadata": {},
   "outputs": [],
   "source": [
    "from pyspedas import mms, themis, cluster"
   ]
  },
  {
   "cell_type": "markdown",
   "metadata": {},
   "source": [
    "This allows you to load data via mms.fgm(trange=[...])\n",
    "\n",
    "You can also import the instrument load routines, e.g.:"
   ]
  },
  {
   "cell_type": "code",
   "execution_count": 3,
   "metadata": {},
   "outputs": [],
   "source": [
    "from pyspedas.mms import fgm, fpi\n",
    "from pyspedas.themis import esa, sst"
   ]
  },
  {
   "cell_type": "markdown",
   "metadata": {},
   "source": [
    "# Projects Supported\n",
    "\n",
    "- Advanced Composition Explorer (ACE)\n",
    "- Arase (ERG) - note: experimental!\n",
    "- Cluster\n",
    "- Colorado Student Space Weather Experiment (CSSWE)\n",
    "- Deep Space Climate Observatory (DSCOVR)\n",
    "- Equator-S\n",
    "- Fast Auroral Snapshot Explorer (FAST)\n",
    "- Geotail\n",
    "- Geostationary Operational Environmental Satellite (GOES)\n",
    "- Imager for Magnetopause-to-Aurora Global Exploration (IMAGE)\n",
    "- Mars Atmosphere and Volatile Evolution (MAVEN)\n",
    "- Magnetic Induction Coil Array (MICA)\n",
    "- Magnetospheric Multiscale (MMS)\n",
    "- OMNI\n",
    "- Polar Orbiting Environmental Satellites (POES)\n",
    "- Polar\n",
    "- Parker Solar Probe (PSP)\n",
    "- Van Allen Probes (RBSP)\n",
    "- Solar Terrestrial Relations Observatory (STEREO)\n",
    "- Time History of Events and Macroscale Interactions during Substorms (THEMIS)\n",
    "- Two Wide-Angle Imaging Neutral-Atom Spectrometers (TWINS)\n",
    "- Ulysses\n",
    "- Wind"
   ]
  },
  {
   "cell_type": "markdown",
   "metadata": {},
   "source": [
    "To find the available options in a load routine, call the help() function on the load routine"
   ]
  },
  {
   "cell_type": "code",
   "execution_count": 4,
   "metadata": {},
   "outputs": [
    {
     "name": "stdout",
     "output_type": "stream",
     "text": [
      "Help on function mms_load_fpi in module pyspedas.mms:\n",
      "\n",
      "mms_load_fpi(*args, **kwargs)\n",
      "    This function loads FPI data into tplot variables\n",
      "    \n",
      "    Parameters:\n",
      "        trange : list of str\n",
      "            time range of interest [starttime, endtime] with the format \n",
      "            'YYYY-MM-DD','YYYY-MM-DD'] or to specify more or less than a day \n",
      "            ['YYYY-MM-DD/hh:mm:ss','YYYY-MM-DD/hh:mm:ss']\n",
      "    \n",
      "        probe : str or list of str\n",
      "            list of probes, valid values for MMS probes are ['1','2','3','4']. \n",
      "    \n",
      "        data_rate : str or list of str\n",
      "            instrument data rates for FPI include 'brst', 'fast'. The\n",
      "            default is 'srvy'.\n",
      "    \n",
      "        level : str\n",
      "            indicates level of data processing. the default if no level is specified is 'l2'\n",
      "    \n",
      "        datatype : str or list of str\n",
      "            Valid datatypes for FPI are:\n",
      "             'des-moms', 'dis-moms' (default)\n",
      "             'des-dist', 'dis-dist'\n",
      "    \n",
      "        get_support_data: bool\n",
      "            Data with an attribute \"VAR_TYPE\" with a value of \"support_data\"\n",
      "            will be loaded into tplot.  By default, only loads in data with a \n",
      "            \"VAR_TYPE\" attribute of \"data\".\n",
      "    \n",
      "        time_clip: bool\n",
      "            Data will be clipped to the exact trange specified by the trange keyword.\n",
      "            \n",
      "        varformat: str\n",
      "            The file variable formats to load into tplot.  Wildcard character\n",
      "            \"*\" is accepted.  By default, all variables are loaded in.\n",
      "    \n",
      "        suffix: str\n",
      "            The tplot variable names will be given this suffix.  By default, \n",
      "            no suffix is added.\n",
      "    \n",
      "        center_measurement: bool\n",
      "            If True, the CDF epoch variables are time-shifted to the middle\n",
      "            of the accumulation interval by their DELTA_PLUS_VAR and\n",
      "            DELTA_MINUS_VAR variable attributes\n",
      "    \n",
      "        notplot: bool\n",
      "            If True, then data are returned in a hash table instead of \n",
      "            being stored in tplot variables (useful for debugging, and\n",
      "            access to multi-dimensional data products)\n",
      "    \n",
      "        available: bool\n",
      "            If True, simply return the available data files (without downloading)\n",
      "            for the requested paramters\n",
      "    \n",
      "        no_update: bool\n",
      "            Set this flag to preserve the original data. if not set and newer \n",
      "            data is found the existing data will be overwritten\n",
      "    \n",
      "        cdf_version: str\n",
      "            Specify a specific CDF version # to load (e.g., cdf_version='4.3.0')\n",
      "    \n",
      "        min_version: str\n",
      "            Specify a minimum CDF version # to load\n",
      "    \n",
      "        latest_version: bool\n",
      "            Only grab the latest CDF version in the requested time interval\n",
      "    \n",
      "        major_version: bool\n",
      "            Only open the latest major CDF version (e.g., X in vX.Y.Z) in the requested time interval\n",
      "    \n",
      "        spdf: bool\n",
      "            If True, download the data from the SPDF instead of the SDC\n",
      "            \n",
      "    Returns:\n",
      "        List of tplot variables created.\n",
      "\n"
     ]
    }
   ],
   "source": [
    "help(pyspedas.mms.fpi)"
   ]
  },
  {
   "cell_type": "code",
   "execution_count": 6,
   "metadata": {},
   "outputs": [
    {
     "name": "stdout",
     "output_type": "stream",
     "text": [
      "Help on function esa in module pyspedas.themis.spacecraft.particles.esa:\n",
      "\n",
      "esa(trange=['2007-03-23', '2007-03-24'], probe='c', level='l2', suffix='', get_support_data=False, varformat=None, varnames=[], downloadonly=False, notplot=False, no_update=False, time_clip=False)\n",
      "    This function loads Electrostatic Analyzer (ESA) data\n",
      "    \n",
      "    Parameters:\n",
      "        trange : list of str\n",
      "            time range of interest [starttime, endtime] with the format\n",
      "            'YYYY-MM-DD','YYYY-MM-DD'] or to specify more or less than a day\n",
      "            ['YYYY-MM-DD/hh:mm:ss','YYYY-MM-DD/hh:mm:ss']\n",
      "    \n",
      "        probe: str or list of str\n",
      "            Spacecraft probe letter(s) ('a', 'b', 'c', 'd' and/or 'e')\n",
      "    \n",
      "        level: str\n",
      "            Data type; Valid options: 'l1', 'l2'\n",
      "    \n",
      "        suffix: str\n",
      "            The tplot variable names will be given this suffix.\n",
      "            By default, no suffix is added.\n",
      "    \n",
      "        get_support_data: bool\n",
      "            Data with an attribute \"VAR_TYPE\" with a value of \"support_data\"\n",
      "            will be loaded into tplot.  By default, only loads in data with a\n",
      "            \"VAR_TYPE\" attribute of \"data\".\n",
      "    \n",
      "        varformat: str\n",
      "            The file variable formats to load into tplot.  Wildcard character\n",
      "            \"*\" is accepted.  By default, all variables are loaded in.\n",
      "    \n",
      "        varnames: list of str\n",
      "            List of variable names to load (if not specified,\n",
      "            all data variables are loaded)\n",
      "    \n",
      "        downloadonly: bool\n",
      "            Set this flag to download the CDF files, but not load them into\n",
      "            tplot variables\n",
      "    \n",
      "        notplot: bool\n",
      "            Return the data in hash tables instead of creating tplot variables\n",
      "    \n",
      "        no_update: bool\n",
      "            If set, only load data from your local cache\n",
      "    \n",
      "        time_clip: bool\n",
      "            Time clip the variables to exactly the range specified\n",
      "            in the trange keyword\n",
      "    \n",
      "    Returns:\n",
      "        List of tplot variables created.\n",
      "\n"
     ]
    }
   ],
   "source": [
    "help(esa)"
   ]
  },
  {
   "cell_type": "markdown",
   "metadata": {},
   "source": [
    "# Loading Data\n",
    "### Magnetospheric Multiscale (MMS) Mission\n",
    "To load 6 hours of MMS FGM data on Oct 16, 2015:"
   ]
  },
  {
   "cell_type": "code",
   "execution_count": 7,
   "metadata": {},
   "outputs": [
    {
     "name": "stderr",
     "output_type": "stream",
     "text": [
      "01-May-20 10:16:59: Loading /Volumes/data/data/mms/mms1/fgm/srvy/l2/2015/10/mms1_fgm_srvy_l2_20151016_v4.18.0.cdf\n"
     ]
    },
    {
     "name": "stdout",
     "output_type": "stream",
     "text": [
      "The lengths of x and y do not match!\n",
      "mms1_fgm_rdeltahalf_srvy_l2 is currently not in pytplot.\n",
      "Time clip was applied to: mms1_fgm_b_gse_srvy_l2\n",
      "Time clip was applied to: mms1_fgm_b_gsm_srvy_l2\n",
      "Time clip was applied to: mms1_fgm_b_dmpa_srvy_l2\n",
      "Time clip was applied to: mms1_fgm_b_bcs_srvy_l2\n",
      "Time clip was applied to: mms1_fgm_flag_srvy_l2\n",
      "Time clip was applied to: mms1_fgm_r_gse_srvy_l2\n",
      "Time clip was applied to: mms1_fgm_r_gsm_srvy_l2\n",
      "Time clip was applied to: mms1_fgm_hirange_srvy_l2\n",
      "Time clip was applied to: mms1_fgm_bdeltahalf_srvy_l2\n",
      "Time clip was applied to: mms1_fgm_stemp_srvy_l2\n",
      "Time clip was applied to: mms1_fgm_etemp_srvy_l2\n",
      "Time clip was applied to: mms1_fgm_mode_srvy_l2\n",
      "Time clip error: No pytplot names were provided.\n",
      "Loaded variables:\n",
      "mms1_fgm_b_gse_srvy_l2\n",
      "mms1_fgm_b_gsm_srvy_l2\n",
      "mms1_fgm_b_dmpa_srvy_l2\n",
      "mms1_fgm_b_bcs_srvy_l2\n",
      "mms1_fgm_flag_srvy_l2\n",
      "mms1_fgm_r_gse_srvy_l2\n",
      "mms1_fgm_r_gsm_srvy_l2\n",
      "mms1_fgm_hirange_srvy_l2\n",
      "mms1_fgm_bdeltahalf_srvy_l2\n",
      "mms1_fgm_stemp_srvy_l2\n",
      "mms1_fgm_etemp_srvy_l2\n",
      "mms1_fgm_mode_srvy_l2\n",
      "mms1_fgm_rdeltahalf_srvy_l2\n"
     ]
    }
   ],
   "source": [
    "data = pyspedas.mms.fgm(trange=['2015-10-16/6:00', '2015-10-16/12:00'], time_clip=True)"
   ]
  },
  {
   "cell_type": "code",
   "execution_count": 8,
   "metadata": {},
   "outputs": [
    {
     "data": {
      "text/plain": [
       "['mms1_fgm_b_gse_srvy_l2',\n",
       " 'mms1_fgm_b_gsm_srvy_l2',\n",
       " 'mms1_fgm_b_dmpa_srvy_l2',\n",
       " 'mms1_fgm_b_bcs_srvy_l2',\n",
       " 'mms1_fgm_flag_srvy_l2',\n",
       " 'mms1_fgm_r_gse_srvy_l2',\n",
       " 'mms1_fgm_r_gsm_srvy_l2',\n",
       " 'mms1_fgm_hirange_srvy_l2',\n",
       " 'mms1_fgm_bdeltahalf_srvy_l2',\n",
       " 'mms1_fgm_stemp_srvy_l2',\n",
       " 'mms1_fgm_etemp_srvy_l2',\n",
       " 'mms1_fgm_mode_srvy_l2',\n",
       " 'mms1_fgm_rdeltahalf_srvy_l2']"
      ]
     },
     "execution_count": 8,
     "metadata": {},
     "output_type": "execute_result"
    }
   ],
   "source": [
    "data"
   ]
  },
  {
   "cell_type": "markdown",
   "metadata": {},
   "source": [
    "To list the tplot variables loaded, use `tplot_names` from `pytplot`"
   ]
  },
  {
   "cell_type": "code",
   "execution_count": 9,
   "metadata": {},
   "outputs": [],
   "source": [
    "from pytplot import tplot_names"
   ]
  },
  {
   "cell_type": "code",
   "execution_count": 10,
   "metadata": {},
   "outputs": [
    {
     "name": "stdout",
     "output_type": "stream",
     "text": [
      "0 : mms1_fgm_b_gse_srvy_l2\n",
      "1 : mms1_fgm_b_gsm_srvy_l2\n",
      "2 : mms1_fgm_b_dmpa_srvy_l2\n",
      "3 : mms1_fgm_b_bcs_srvy_l2\n",
      "4 : mms1_fgm_flag_srvy_l2\n",
      "5 : mms1_fgm_r_gse_srvy_l2\n",
      "6 : mms1_fgm_r_gsm_srvy_l2\n",
      "7 : mms1_fgm_hirange_srvy_l2\n",
      "8 : mms1_fgm_bdeltahalf_srvy_l2\n",
      "9 : mms1_fgm_stemp_srvy_l2\n",
      "10 : mms1_fgm_etemp_srvy_l2\n",
      "11 : mms1_fgm_mode_srvy_l2\n"
     ]
    },
    {
     "data": {
      "text/plain": [
       "['mms1_fgm_b_gse_srvy_l2',\n",
       " 'mms1_fgm_b_gsm_srvy_l2',\n",
       " 'mms1_fgm_b_dmpa_srvy_l2',\n",
       " 'mms1_fgm_b_bcs_srvy_l2',\n",
       " 'mms1_fgm_flag_srvy_l2',\n",
       " 'mms1_fgm_r_gse_srvy_l2',\n",
       " 'mms1_fgm_r_gsm_srvy_l2',\n",
       " 'mms1_fgm_hirange_srvy_l2',\n",
       " 'mms1_fgm_bdeltahalf_srvy_l2',\n",
       " 'mms1_fgm_stemp_srvy_l2',\n",
       " 'mms1_fgm_etemp_srvy_l2',\n",
       " 'mms1_fgm_mode_srvy_l2']"
      ]
     },
     "execution_count": 10,
     "metadata": {},
     "output_type": "execute_result"
    }
   ],
   "source": [
    "tplot_names()"
   ]
  },
  {
   "cell_type": "markdown",
   "metadata": {},
   "source": [
    "To plot a variable, import `tplot` from pytplot"
   ]
  },
  {
   "cell_type": "code",
   "execution_count": 11,
   "metadata": {},
   "outputs": [],
   "source": [
    "from pytplot import tplot"
   ]
  },
  {
   "cell_type": "code",
   "execution_count": 86,
   "metadata": {},
   "outputs": [],
   "source": [
    "tplot('mms1_fgm_b_gse_srvy_l2')"
   ]
  },
  {
   "cell_type": "markdown",
   "metadata": {},
   "source": [
    "`tplot` also accepts a list of variable names, e.g.,"
   ]
  },
  {
   "cell_type": "code",
   "execution_count": 13,
   "metadata": {},
   "outputs": [],
   "source": [
    "tplot(['mms1_fgm_b_gse_srvy_l2', 'mms1_fgm_b_gsm_srvy_l2'], save_png='/path/to/filename')"
   ]
  },
  {
   "cell_type": "markdown",
   "metadata": {},
   "source": [
    "To load MMS FPI burst-mode electron energy spectra (from the moments CDFs)"
   ]
  },
  {
   "cell_type": "code",
   "execution_count": 14,
   "metadata": {},
   "outputs": [
    {
     "name": "stderr",
     "output_type": "stream",
     "text": [
      "01-May-20 10:27:21: Loading /Volumes/data/data/mms/mms1/fpi/brst/l2/des-moms/2015/10/16/mms1_fpi_brst_l2_des-moms_20151016130524_v3.3.0.cdf\n"
     ]
    },
    {
     "name": "stdout",
     "output_type": "stream",
     "text": [
      "Loaded variables:\n",
      "mms1_des_errorflags_brst\n",
      "mms1_des_compressionloss_brst\n",
      "mms1_des_startdelphi_count_brst\n",
      "mms1_des_startdelphi_angle_brst\n",
      "mms1_des_sector_despinp_brst\n",
      "mms1_des_pitchangdist_lowen_brst\n",
      "mms1_des_pitchangdist_miden_brst\n",
      "mms1_des_pitchangdist_highen_brst\n",
      "mms1_des_energyspectr_px_brst\n",
      "mms1_des_energyspectr_mx_brst\n",
      "mms1_des_energyspectr_py_brst\n",
      "mms1_des_energyspectr_my_brst\n",
      "mms1_des_energyspectr_pz_brst\n",
      "mms1_des_energyspectr_mz_brst\n",
      "mms1_des_energyspectr_par_brst\n",
      "mms1_des_energyspectr_anti_brst\n",
      "mms1_des_energyspectr_perp_brst\n",
      "mms1_des_energyspectr_omni_brst\n",
      "mms1_des_numberdensity_brst\n",
      "mms1_des_densityextrapolation_low_brst\n",
      "mms1_des_densityextrapolation_high_brst\n",
      "mms1_des_bulkv_dbcs_brst\n",
      "mms1_des_bulkv_spintone_dbcs_brst\n",
      "mms1_des_bulkv_gse_brst\n",
      "mms1_des_bulkv_spintone_gse_brst\n",
      "mms1_des_prestensor_dbcs_brst\n",
      "mms1_des_prestensor_gse_brst\n",
      "mms1_des_temptensor_dbcs_brst\n",
      "mms1_des_temptensor_gse_brst\n",
      "mms1_des_heatq_dbcs_brst\n",
      "mms1_des_heatq_gse_brst\n",
      "mms1_des_temppara_brst\n",
      "mms1_des_tempperp_brst\n"
     ]
    },
    {
     "data": {
      "text/plain": [
       "['mms1_des_errorflags_brst',\n",
       " 'mms1_des_compressionloss_brst',\n",
       " 'mms1_des_startdelphi_count_brst',\n",
       " 'mms1_des_startdelphi_angle_brst',\n",
       " 'mms1_des_sector_despinp_brst',\n",
       " 'mms1_des_pitchangdist_lowen_brst',\n",
       " 'mms1_des_pitchangdist_miden_brst',\n",
       " 'mms1_des_pitchangdist_highen_brst',\n",
       " 'mms1_des_energyspectr_px_brst',\n",
       " 'mms1_des_energyspectr_mx_brst',\n",
       " 'mms1_des_energyspectr_py_brst',\n",
       " 'mms1_des_energyspectr_my_brst',\n",
       " 'mms1_des_energyspectr_pz_brst',\n",
       " 'mms1_des_energyspectr_mz_brst',\n",
       " 'mms1_des_energyspectr_par_brst',\n",
       " 'mms1_des_energyspectr_anti_brst',\n",
       " 'mms1_des_energyspectr_perp_brst',\n",
       " 'mms1_des_energyspectr_omni_brst',\n",
       " 'mms1_des_numberdensity_brst',\n",
       " 'mms1_des_densityextrapolation_low_brst',\n",
       " 'mms1_des_densityextrapolation_high_brst',\n",
       " 'mms1_des_bulkv_dbcs_brst',\n",
       " 'mms1_des_bulkv_spintone_dbcs_brst',\n",
       " 'mms1_des_bulkv_gse_brst',\n",
       " 'mms1_des_bulkv_spintone_gse_brst',\n",
       " 'mms1_des_prestensor_dbcs_brst',\n",
       " 'mms1_des_prestensor_gse_brst',\n",
       " 'mms1_des_temptensor_dbcs_brst',\n",
       " 'mms1_des_temptensor_gse_brst',\n",
       " 'mms1_des_heatq_dbcs_brst',\n",
       " 'mms1_des_heatq_gse_brst',\n",
       " 'mms1_des_temppara_brst',\n",
       " 'mms1_des_tempperp_brst']"
      ]
     },
     "execution_count": 14,
     "metadata": {},
     "output_type": "execute_result"
    }
   ],
   "source": [
    "pyspedas.mms.fpi(trange=['2015-10-16/13:06', '2015-10-16/13:07'], data_rate='brst', datatype='des-moms')"
   ]
  },
  {
   "cell_type": "code",
   "execution_count": 15,
   "metadata": {},
   "outputs": [],
   "source": [
    "tplot(['mms1_des_energyspectr_omni_brst', 'mms1_des_energyspectr_perp_brst', 'mms1_des_energyspectr_par_brst'])"
   ]
  },
  {
   "cell_type": "markdown",
   "metadata": {},
   "source": [
    "### Time History of Events and Macroscale Interactions during Substorms (THEMIS)\n",
    "\n",
    "To load THEMIS search-coil magnetometer (SCM) data:"
   ]
  },
  {
   "cell_type": "code",
   "execution_count": 16,
   "metadata": {},
   "outputs": [
    {
     "name": "stderr",
     "output_type": "stream",
     "text": [
      "01-May-20 10:28:45: Downloading remote index: http://themis.ssl.berkeley.edu/data/themis/thd/l2/scm/2016/\n",
      "01-May-20 10:28:46: File is current: /Volumes/data/data/themis/thd/l2/scm/2016/thd_l2_scm_20161016_v01.cdf\n"
     ]
    },
    {
     "data": {
      "text/plain": [
       "['thd_scf_btotal',\n",
       " 'thd_scf_gse',\n",
       " 'thd_scf_gsm',\n",
       " 'thd_scf_dsl',\n",
       " 'thd_scp_btotal',\n",
       " 'thd_scp_gse',\n",
       " 'thd_scp_gsm',\n",
       " 'thd_scp_dsl',\n",
       " 'thd_scw_btotal',\n",
       " 'thd_scw_gse',\n",
       " 'thd_scw_gsm',\n",
       " 'thd_scw_dsl']"
      ]
     },
     "execution_count": 16,
     "metadata": {},
     "output_type": "execute_result"
    }
   ],
   "source": [
    "pyspedas.themis.scm(probe='d', trange=['2016-10-16', '2016-10-17'])"
   ]
  },
  {
   "cell_type": "code",
   "execution_count": 17,
   "metadata": {},
   "outputs": [],
   "source": [
    "tplot(['thd_scf_gse', 'thd_scf_gsm'])"
   ]
  },
  {
   "cell_type": "markdown",
   "metadata": {},
   "source": [
    "The plot metadata can be updated with `options` fron `pytplot`"
   ]
  },
  {
   "cell_type": "code",
   "execution_count": 18,
   "metadata": {},
   "outputs": [],
   "source": [
    "from pytplot import options"
   ]
  },
  {
   "cell_type": "markdown",
   "metadata": {},
   "source": [
    "To find the available options, run the help() function on the options function after importing it"
   ]
  },
  {
   "cell_type": "code",
   "execution_count": 19,
   "metadata": {},
   "outputs": [
    {
     "name": "stdout",
     "output_type": "stream",
     "text": [
      "Help on function options in module pytplot.options:\n",
      "\n",
      "options(name, option=None, value=None, opt_dict=None)\n",
      "    This function allows the user to set a large variety of options for individual plots.\n",
      "    \n",
      "    Parameters:\n",
      "        name : str\n",
      "            Name or number of the tplot variable\n",
      "        option : str\n",
      "            The name of the option.  See section below.\n",
      "        value : str/int/float/list\n",
      "            The value of the option.  See section below.\n",
      "        dict : dict\n",
      "            This can be a dictionary of option:value pairs.  Option and value\n",
      "            will not be needed if this dictionary item is supplied.\n",
      "    \n",
      "    Options:\n",
      "        =================== ==========   =====\n",
      "        Options             Value type   Notes\n",
      "        =================== ==========   =====\n",
      "        Color               str/list     Red, Orange, Yellow, Green, Blue, etc.\n",
      "        Colormap            str/list     https://matplotlib.org/examples/color/colormaps_reference.html.\n",
      "        Spec                int          1 sets the Tplot Variable to spectrogram mode, 0 reverts.\n",
      "        Alt                 int          1 sets the Tplot Variable to altitude plot mode, 0 reverts.\n",
      "        Map                 int          1 sets the Tplot Variable to latitude/longitude mode, 0 reverts.\n",
      "        link                list         Allows a user to reference one tplot variable to another.\n",
      "        ylog                int          1 sets the y axis to log scale, 0 reverts.\n",
      "        zlog                int          1 sets the z axis to log scale, 0 reverts (spectrograms only).\n",
      "        legend_names        list         A list of strings that will be used to identify the lines.\n",
      "        xlog_slice          bool         Sets x axis on slice plot to log scale if True.\n",
      "        ylog                bool         Set y axis on main plot window to log scale if True.\n",
      "        ylog_slice          bool         Sets y axis on slice plot to log scale if True.\n",
      "        zlog                bool         Sets z axis on main plot window to log scale if True.\n",
      "        line_style          str          scatter (to make scatter plots), or solid_line, dot, dash, dash_dot, dash_dot_dot_dot, long_dash.\n",
      "        char_size           int          Defines character size for plot labels, etc.\n",
      "        name                str          The title of the plot.\n",
      "        panel_size          flt          Number between (0,1], representing the percent size of the plot.\n",
      "        basemap             str          Full path and name of a background image for \"Map\" plots.\n",
      "        alpha               flt          Number between [0,1], gives the transparancy of the plot lines.\n",
      "        thick               flt          Sets plot line width.\n",
      "        yrange              flt list     Two numbers that give the y axis range of the plot.\n",
      "        zrange              flt list     Two numbers that give the z axis range of the plot.\n",
      "        xrange_slice        flt list     Two numbers that give the x axis range of spectrogram slicing plots.\n",
      "        yrange_slice        flt list     Two numbers that give the y axis range of spectrogram slicing plots.\n",
      "        ytitle              str          Title shown on the y axis.\n",
      "        ztitle              str          Title shown on the z axis.  Spec plots only.\n",
      "        ysubtitle           str          Subtitle shown on the y axis.\n",
      "        zsubtitle           str          Subtitle shown on the z axis.  Spec plots only.\n",
      "        plotter             str          Allows a user to implement their own plotting script in place of the ones\n",
      "                                         herein.\n",
      "        crosshair_x         str          Title for x-axis crosshair.\n",
      "        crosshair_y         str          Title for y-axis crosshair.\n",
      "        crosshair_z         str          Title for z-axis crosshair.\n",
      "        static              str          Datetime string that gives desired time to plot y and z values from a spec\n",
      "                                         plot.\n",
      "        static_tavg         str          Datetime string that gives desired time-averaged y and z values to plot\n",
      "                                         from a spec plot.\n",
      "        t_average           int          Seconds around which the cursor is averaged when hovering over spectrogram\n",
      "                                         plots.\n",
      "        =================== ==========   =====\n",
      "    Returns:\n",
      "        None\n",
      "    \n",
      "    Examples:\n",
      "        >>> # Change the y range of Variable1\n",
      "        >>> import pytplot\n",
      "        >>> x_data = [1,2,3,4,5]\n",
      "        >>> y_data = [1,2,3,4,5]\n",
      "        >>> pytplot.store_data(\"Variable1\", data={'x':x_data, 'y':y_data})\n",
      "        >>> pytplot.options('Variable1', 'yrange', [2,4])\n",
      "    \n",
      "        >>> # Change Variable1 to use a log scale\n",
      "        >>> pytplot.options('Variable1', 'ylog', 1)\n",
      "\n"
     ]
    }
   ],
   "source": [
    "help(options)"
   ]
  },
  {
   "cell_type": "markdown",
   "metadata": {},
   "source": [
    "Set the label names"
   ]
  },
  {
   "cell_type": "code",
   "execution_count": 20,
   "metadata": {},
   "outputs": [],
   "source": [
    "options('thd_scf_gsm', 'legend_names', ['Bx GSM', 'By GSM', 'Bz GSM'])"
   ]
  },
  {
   "cell_type": "code",
   "execution_count": 21,
   "metadata": {},
   "outputs": [],
   "source": [
    "options('thd_scf_gse', 'legend_names', ['Bx GSE', 'By GSE', 'Bz GSE'])"
   ]
  },
  {
   "cell_type": "markdown",
   "metadata": {},
   "source": [
    "Set the line colors"
   ]
  },
  {
   "cell_type": "code",
   "execution_count": 22,
   "metadata": {},
   "outputs": [],
   "source": [
    "options('thd_scf_gsm', 'Color', ['blue', 'green', 'red'])"
   ]
  },
  {
   "cell_type": "code",
   "execution_count": 23,
   "metadata": {},
   "outputs": [],
   "source": [
    "options('thd_scf_gse', 'Color', ['blue', 'green', 'red'])"
   ]
  },
  {
   "cell_type": "markdown",
   "metadata": {},
   "source": [
    "Set the yrange"
   ]
  },
  {
   "cell_type": "code",
   "execution_count": 24,
   "metadata": {},
   "outputs": [],
   "source": [
    "options('thd_scf_gsm', 'yrange', [-20, 20])"
   ]
  },
  {
   "cell_type": "code",
   "execution_count": 25,
   "metadata": {},
   "outputs": [],
   "source": [
    "options('thd_scf_gse', 'yrange', [-20, 20])"
   ]
  },
  {
   "cell_type": "markdown",
   "metadata": {},
   "source": [
    "Replot the data with the updated metadata"
   ]
  },
  {
   "cell_type": "code",
   "execution_count": 26,
   "metadata": {},
   "outputs": [],
   "source": [
    "tplot(['thd_scf_gse', 'thd_scf_gsm'])"
   ]
  },
  {
   "cell_type": "markdown",
   "metadata": {},
   "source": [
    "### Van Allen Probes (RBSP)\n",
    "\n",
    "To load RBSP emfisis data:"
   ]
  },
  {
   "cell_type": "code",
   "execution_count": 27,
   "metadata": {},
   "outputs": [
    {
     "name": "stderr",
     "output_type": "stream",
     "text": [
      "01-May-20 10:35:03: Downloading remote index: https://spdf.sci.gsfc.nasa.gov/pub/data/rbsp/rbspa/l3/emfisis/magnetometer/4sec/sm/2016/\n",
      "01-May-20 10:35:04: File is current: /Volumes/data/data/rbsp/rbspa/l3/emfisis/magnetometer/4sec/sm/2016/rbsp-a_magnetometer_4sec-sm_emfisis-l3_20161016_v1.6.1.cdf\n"
     ]
    },
    {
     "data": {
      "text/plain": [
       "['Mag', 'Magnitude', 'delta', 'lambda', 'rms', 'coordinates']"
      ]
     },
     "execution_count": 27,
     "metadata": {},
     "output_type": "execute_result"
    }
   ],
   "source": [
    "pyspedas.rbsp.emfisis(trange=['2016-10-16', '2016-10-17'])"
   ]
  },
  {
   "cell_type": "code",
   "execution_count": 28,
   "metadata": {},
   "outputs": [
    {
     "name": "stdout",
     "output_type": "stream",
     "text": [
      "Help on function emfisis in module pyspedas.rbsp:\n",
      "\n",
      "emfisis(trange=['2018-11-5', '2018-11-6'], probe='a', datatype='magnetometer', level='l3', cadence='4sec', coord='sm', suffix='', get_support_data=False, varformat=None, downloadonly=False, notplot=False, no_update=False, time_clip=False)\n",
      "    This function loads data from the Electric and Magnetic Field Instrument Suite and Integrated Science (EMFISIS) instrument\n",
      "    \n",
      "    Parameters:\n",
      "        trange : list of str\n",
      "            time range of interest [starttime, endtime] with the format \n",
      "            'YYYY-MM-DD','YYYY-MM-DD'] or to specify more or less than a day \n",
      "            ['YYYY-MM-DD/hh:mm:ss','YYYY-MM-DD/hh:mm:ss']\n",
      "    \n",
      "        probe: str or list of str\n",
      "            Spacecraft probe name ('a' or 'b'); default: a\n",
      "    \n",
      "        cadence: str\n",
      "            Data cadence (default: 4sec)\n",
      "    \n",
      "        coord: str\n",
      "            Data coordinate system (default: sm)\n",
      "    \n",
      "        datatype: str\n",
      "            Data type; Valid options:\n",
      "    \n",
      "        suffix: str\n",
      "            The tplot variable names will be given this suffix.  By default, \n",
      "            no suffix is added.\n",
      "    \n",
      "        get_support_data: bool\n",
      "            Data with an attribute \"VAR_TYPE\" with a value of \"support_data\"\n",
      "            will be loaded into tplot.  By default, only loads in data with a \n",
      "            \"VAR_TYPE\" attribute of \"data\".\n",
      "    \n",
      "        varformat: str\n",
      "            The file variable formats to load into tplot.  Wildcard character\n",
      "            \"*\" is accepted.  By default, all variables are loaded in.\n",
      "    \n",
      "        downloadonly: bool\n",
      "            Set this flag to download the CDF files, but not load them into \n",
      "            tplot variables\n",
      "    \n",
      "        notplot: bool\n",
      "            Return the data in hash tables instead of creating tplot variables\n",
      "    \n",
      "        no_update: bool\n",
      "            If set, only load data from your local cache\n",
      "    \n",
      "        time_clip: bool\n",
      "            Time clip the variables to exactly the range specified in the trange keyword\n",
      "    \n",
      "    Returns:\n",
      "        List of tplot variables created.\n",
      "\n"
     ]
    }
   ],
   "source": [
    "help(pyspedas.rbsp.emfisis)"
   ]
  },
  {
   "cell_type": "code",
   "execution_count": 29,
   "metadata": {},
   "outputs": [],
   "source": [
    "tplot(['Magnitude', 'Mag'])"
   ]
  },
  {
   "cell_type": "markdown",
   "metadata": {},
   "source": [
    "Just like with MMS instruments, you can find the available options for the load routines using help()"
   ]
  },
  {
   "cell_type": "code",
   "execution_count": 30,
   "metadata": {},
   "outputs": [
    {
     "name": "stdout",
     "output_type": "stream",
     "text": [
      "Help on function mageis in module pyspedas.rbsp:\n",
      "\n",
      "mageis(trange=['2015-11-5', '2015-11-6'], probe='a', datatype='', level='l3', rel='rel04', suffix='', get_support_data=False, varformat=None, downloadonly=False, notplot=False, no_update=False, time_clip=False)\n",
      "    This function loads data from the Energetic Particle, Composition, and Thermal Plasma Suite (ECT)\n",
      "    \n",
      "    Parameters:\n",
      "        trange : list of str\n",
      "            time range of interest [starttime, endtime] with the format \n",
      "            'YYYY-MM-DD','YYYY-MM-DD'] or to specify more or less than a day \n",
      "            ['YYYY-MM-DD/hh:mm:ss','YYYY-MM-DD/hh:mm:ss']\n",
      "    \n",
      "        probe: str or list of str\n",
      "            Spacecraft probe name ('a' or 'b'); default: a\n",
      "    \n",
      "        datatype: str\n",
      "            Data type; Valid options:\n",
      "    \n",
      "        suffix: str\n",
      "            The tplot variable names will be given this suffix.  By default, \n",
      "            no suffix is added.\n",
      "    \n",
      "        get_support_data: bool\n",
      "            Data with an attribute \"VAR_TYPE\" with a value of \"support_data\"\n",
      "            will be loaded into tplot.  By default, only loads in data with a \n",
      "            \"VAR_TYPE\" attribute of \"data\".\n",
      "    \n",
      "        varformat: str\n",
      "            The file variable formats to load into tplot.  Wildcard character\n",
      "            \"*\" is accepted.  By default, all variables are loaded in.\n",
      "    \n",
      "        downloadonly: bool\n",
      "            Set this flag to download the CDF files, but not load them into \n",
      "            tplot variables\n",
      "    \n",
      "        notplot: bool\n",
      "            Return the data in hash tables instead of creating tplot variables\n",
      "    \n",
      "        no_update: bool\n",
      "            If set, only load data from your local cache\n",
      "    \n",
      "        time_clip: bool\n",
      "            Time clip the variables to exactly the range specified in the trange keyword\n",
      "    \n",
      "    Returns:\n",
      "        List of tplot variables created.\n",
      "\n"
     ]
    }
   ],
   "source": [
    "help(pyspedas.rbsp.mageis)"
   ]
  },
  {
   "cell_type": "markdown",
   "metadata": {},
   "source": [
    "Most load routines support the downloadonly option; this tells the load routine to download the data files, but not load them into tplot variables"
   ]
  },
  {
   "cell_type": "code",
   "execution_count": 31,
   "metadata": {},
   "outputs": [
    {
     "name": "stderr",
     "output_type": "stream",
     "text": [
      "01-May-20 10:36:57: Downloading remote index: https://spdf.sci.gsfc.nasa.gov/pub/data/rbsp/rbspa/l3/ect/mageis/sectors/rel04/2018/\n",
      "01-May-20 10:36:59: File is current: /Volumes/data/data/rbsp/rbspa/l3/ect/mageis/sectors/rel04/2018/rbspa_rel04_ect-mageis-l3_20181105_v8.1.0.cdf\n",
      "01-May-20 10:36:59: Downloading remote index: https://spdf.sci.gsfc.nasa.gov/pub/data/rbsp/rbspb/l3/ect/mageis/sectors/rel04/2018/\n",
      "01-May-20 10:37:00: File is current: /Volumes/data/data/rbsp/rbspb/l3/ect/mageis/sectors/rel04/2018/rbspb_rel04_ect-mageis-l3_20181105_v8.1.0.cdf\n"
     ]
    }
   ],
   "source": [
    "files = pyspedas.rbsp.mageis(trange=['2018-11-5', '2018-11-6'], probe=['a', 'b'], downloadonly=True)"
   ]
  },
  {
   "cell_type": "code",
   "execution_count": 32,
   "metadata": {},
   "outputs": [
    {
     "data": {
      "text/plain": [
       "['/Volumes/data/data/rbsp/rbspa/l3/ect/mageis/sectors/rel04/2018/rbspa_rel04_ect-mageis-l3_20181105_v8.1.0.cdf',\n",
       " '/Volumes/data/data/rbsp/rbspb/l3/ect/mageis/sectors/rel04/2018/rbspb_rel04_ect-mageis-l3_20181105_v8.1.0.cdf']"
      ]
     },
     "execution_count": 32,
     "metadata": {},
     "output_type": "execute_result"
    }
   ],
   "source": [
    "files"
   ]
  },
  {
   "cell_type": "markdown",
   "metadata": {},
   "source": [
    "### Deep Space Climate Observatory (DSCOVR)\n",
    "\n",
    "To load DSCOVR magnetometer data:"
   ]
  },
  {
   "cell_type": "code",
   "execution_count": 33,
   "metadata": {},
   "outputs": [],
   "source": [
    "from pyspedas import dscovr"
   ]
  },
  {
   "cell_type": "code",
   "execution_count": 34,
   "metadata": {},
   "outputs": [
    {
     "name": "stderr",
     "output_type": "stream",
     "text": [
      "01-May-20 10:38:09: Downloading remote index: https://spdf.sci.gsfc.nasa.gov/pub/data/dscovr/h0/mag/2016/\n",
      "01-May-20 10:38:10: File is current: /Volumes/data/data/dscovr/h0/mag/2016/dscovr_h0_mag_20161016_v01.cdf\n"
     ]
    },
    {
     "data": {
      "text/plain": [
       "['B1F1', 'B1SDF1', 'B1GSE', 'B1SDGSE', 'B1RTN', 'B1SDRTN']"
      ]
     },
     "execution_count": 34,
     "metadata": {},
     "output_type": "execute_result"
    }
   ],
   "source": [
    "dscovr.mag(trange=['2016-10-16', '2016-10-17'])"
   ]
  },
  {
   "cell_type": "markdown",
   "metadata": {},
   "source": [
    "and DSCOVR faraday cup data:"
   ]
  },
  {
   "cell_type": "code",
   "execution_count": 35,
   "metadata": {},
   "outputs": [
    {
     "name": "stderr",
     "output_type": "stream",
     "text": [
      "01-May-20 10:38:29: Downloading remote index: https://spdf.sci.gsfc.nasa.gov/pub/data/dscovr/h1/faraday_cup/2016/\n",
      "01-May-20 10:38:30: File is current: /Volumes/data/data/dscovr/h1/faraday_cup/2016/dscovr_h1_fc_20161016_v06.cdf\n"
     ]
    },
    {
     "data": {
      "text/plain": [
       "['V_GSE', 'THERMAL_SPD', 'Np', 'THERMAL_TEMP']"
      ]
     },
     "execution_count": 35,
     "metadata": {},
     "output_type": "execute_result"
    }
   ],
   "source": [
    "dscovr.fc(trange=['2016-10-16', '2016-10-17'])"
   ]
  },
  {
   "cell_type": "code",
   "execution_count": 36,
   "metadata": {},
   "outputs": [],
   "source": [
    "tplot(['B1GSE', 'V_GSE', 'Np'])"
   ]
  },
  {
   "cell_type": "markdown",
   "metadata": {},
   "source": [
    "### Geotail \n",
    "\n",
    "To load some Geotail magnetometer data, and append a suffix to the variable names:"
   ]
  },
  {
   "cell_type": "code",
   "execution_count": 37,
   "metadata": {},
   "outputs": [
    {
     "name": "stderr",
     "output_type": "stream",
     "text": [
      "01-May-20 10:40:02: Downloading remote index: https://spdf.sci.gsfc.nasa.gov/pub/data/geotail/mgf/mgf_k0/2018/\n",
      "01-May-20 10:40:04: File is current: /Volumes/data/data/geotail/mgf/mgf_k0/2018/ge_k0_mgf_20181105_v01.cdf\n"
     ]
    },
    {
     "name": "stdout",
     "output_type": "stream",
     "text": [
      "Cannot find x axis.\n",
      "No attribute named DEPEND_TIME or DEPEND_0 in                           variable Epoch\n",
      "Time clip was applied to: Time_PB5_suffix\n",
      "Time clip was applied to: MSEC_suffix\n",
      "Time clip was applied to: IB_suffix\n",
      "Time clip was applied to: IB_vector_suffix\n",
      "Time clip was applied to: IS_vector_suffix\n",
      "Time clip was applied to: RANGE_STATUS_suffix\n",
      "Time clip was applied to: POS_suffix\n",
      "Time clip was applied to: DQF_suffix\n",
      "Time clip was applied to: Gap_Flag_suffix\n"
     ]
    },
    {
     "data": {
      "text/plain": [
       "['Time_PB5_suffix',\n",
       " 'MSEC_suffix',\n",
       " 'IB_suffix',\n",
       " 'IB_vector_suffix',\n",
       " 'IS_vector_suffix',\n",
       " 'RANGE_STATUS_suffix',\n",
       " 'POS_suffix',\n",
       " 'DQF_suffix',\n",
       " 'Gap_Flag_suffix']"
      ]
     },
     "execution_count": 37,
     "metadata": {},
     "output_type": "execute_result"
    }
   ],
   "source": [
    "pyspedas.geotail.mgf(trange=['2018-11-5/6:00', '2018-11-5/12:00'], suffix='_suffix', time_clip=True)"
   ]
  },
  {
   "cell_type": "code",
   "execution_count": 38,
   "metadata": {},
   "outputs": [],
   "source": [
    "tplot(['IB_suffix', 'IB_vector_suffix'])"
   ]
  },
  {
   "cell_type": "markdown",
   "metadata": {},
   "source": [
    "and to load data from the Low Energy Particle experiment (LEP):"
   ]
  },
  {
   "cell_type": "code",
   "execution_count": 39,
   "metadata": {},
   "outputs": [
    {
     "name": "stderr",
     "output_type": "stream",
     "text": [
      "01-May-20 10:40:43: Downloading remote index: https://spdf.sci.gsfc.nasa.gov/pub/data/geotail/lep/lep_k0/2018/\n",
      "01-May-20 10:40:44: File is current: /Volumes/data/data/geotail/lep/lep_k0/2018/ge_k0_lep_20181105_v01.cdf\n"
     ]
    },
    {
     "name": "stdout",
     "output_type": "stream",
     "text": [
      "Cannot find x axis.\n",
      "No attribute named DEPEND_TIME or DEPEND_0 in                           variable Epoch\n",
      "Cannot find x axis.\n",
      "No attribute named DEPEND_TIME or DEPEND_0 in                           variable sector_angle\n",
      "Time clip was applied to: Time_PB5\n",
      "Time clip was applied to: POSITION\n",
      "Time clip was applied to: N0\n",
      "Time clip was applied to: V0\n",
      "Time clip was applied to: energy_e\n",
      "Time clip was applied to: energy_p\n",
      "Time clip was applied to: DQF\n",
      "Time clip was applied to: Gap_Flag\n"
     ]
    }
   ],
   "source": [
    "lep_vars = pyspedas.geotail.lep(trange=['2018-11-5/8:00', '2018-11-5/9:00'], time_clip=True)"
   ]
  },
  {
   "cell_type": "code",
   "execution_count": 40,
   "metadata": {},
   "outputs": [
    {
     "data": {
      "text/plain": [
       "['Time_PB5', 'POSITION', 'N0', 'V0', 'energy_e', 'energy_p', 'DQF', 'Gap_Flag']"
      ]
     },
     "execution_count": 40,
     "metadata": {},
     "output_type": "execute_result"
    }
   ],
   "source": [
    "lep_vars"
   ]
  },
  {
   "cell_type": "code",
   "execution_count": 41,
   "metadata": {},
   "outputs": [],
   "source": [
    "tplot(['N0', 'V0'])"
   ]
  },
  {
   "cell_type": "markdown",
   "metadata": {},
   "source": [
    "### IMAGE MENA\n",
    "\n",
    "To load the energetic neutral atom images from the MENA instrument onboard IMAGE"
   ]
  },
  {
   "cell_type": "code",
   "execution_count": 42,
   "metadata": {},
   "outputs": [
    {
     "name": "stderr",
     "output_type": "stream",
     "text": [
      "01-May-20 10:41:50: Downloading remote index: https://spdf.sci.gsfc.nasa.gov/pub/data/image/mena/mena_k0/2003/\n",
      "01-May-20 10:41:51: File is current: /Volumes/data/data/image/mena/mena_k0/2003/im_k0_mena_20031031_v01.cdf\n"
     ]
    },
    {
     "data": {
      "text/plain": [
       "['Image0',\n",
       " 'Image1',\n",
       " 'Image2',\n",
       " 'Image3',\n",
       " 'Image4',\n",
       " 'gci_pos',\n",
       " 'gsm_pos',\n",
       " 'gse_pos',\n",
       " 'gci_spinaxis']"
      ]
     },
     "execution_count": 42,
     "metadata": {},
     "output_type": "execute_result"
    }
   ],
   "source": [
    "pyspedas.image.mena(trange=['2003-10-31', '2003-11-1'])"
   ]
  },
  {
   "cell_type": "markdown",
   "metadata": {},
   "source": [
    "Plot the IMAGE spacecraft position"
   ]
  },
  {
   "cell_type": "code",
   "execution_count": 43,
   "metadata": {},
   "outputs": [],
   "source": [
    "tplot('gsm_pos')"
   ]
  },
  {
   "cell_type": "markdown",
   "metadata": {},
   "source": [
    "### OMNI \n",
    "\n",
    "To load OMNI solar wind data (note: OMNI data are time-shifted to the magnetopause):"
   ]
  },
  {
   "cell_type": "code",
   "execution_count": 44,
   "metadata": {},
   "outputs": [
    {
     "name": "stderr",
     "output_type": "stream",
     "text": [
      "01-May-20 10:43:01: Downloading remote index: https://spdf.sci.gsfc.nasa.gov/pub/data/omni/omni_cdaweb/hro2_1min/2013/\n",
      "01-May-20 10:43:02: File is current: /Volumes/data/data/omni/hro2_1min/2013/omni_hro2_1min_20131101_v01.cdf\n"
     ]
    },
    {
     "name": "stdout",
     "output_type": "stream",
     "text": [
      "Time clip was applied to: IMF\n",
      "Time clip was applied to: PLS\n",
      "Time clip was applied to: IMF_PTS\n",
      "Time clip was applied to: PLS_PTS\n",
      "Time clip was applied to: percent_interp\n",
      "Time clip was applied to: Timeshift\n",
      "Time clip was applied to: RMS_Timeshift\n",
      "Time clip was applied to: RMS_phase\n",
      "Time clip was applied to: Time_btwn_obs\n",
      "Time clip was applied to: F\n",
      "Time clip was applied to: BX_GSE\n",
      "Time clip was applied to: BY_GSE\n",
      "Time clip was applied to: BZ_GSE\n",
      "Time clip was applied to: BY_GSM\n",
      "Time clip was applied to: BZ_GSM\n",
      "Time clip was applied to: RMS_SD_B\n",
      "Time clip was applied to: RMS_SD_fld_vec\n",
      "Time clip was applied to: flow_speed\n",
      "Time clip was applied to: Vx\n",
      "Time clip was applied to: Vy\n",
      "Time clip was applied to: Vz\n",
      "Time clip was applied to: proton_density\n",
      "Time clip was applied to: T\n",
      "Time clip was applied to: NaNp_Ratio\n",
      "Time clip was applied to: Pressure\n",
      "Time clip was applied to: E\n",
      "Time clip was applied to: Beta\n",
      "Time clip was applied to: Mach_num\n",
      "Time clip was applied to: Mgs_mach_num\n",
      "Time clip was applied to: x\n",
      "Time clip was applied to: y\n",
      "Time clip was applied to: z\n",
      "Time clip was applied to: BSN_x\n",
      "Time clip was applied to: BSN_y\n",
      "Time clip was applied to: BSN_z\n",
      "Time clip was applied to: AE_INDEX\n",
      "Time clip was applied to: AL_INDEX\n",
      "Time clip was applied to: AU_INDEX\n",
      "Time clip was applied to: SYM_D\n",
      "Time clip was applied to: SYM_H\n",
      "Time clip was applied to: ASY_D\n",
      "Time clip was applied to: ASY_H\n"
     ]
    },
    {
     "data": {
      "text/plain": [
       "['IMF',\n",
       " 'PLS',\n",
       " 'IMF_PTS',\n",
       " 'PLS_PTS',\n",
       " 'percent_interp',\n",
       " 'Timeshift',\n",
       " 'RMS_Timeshift',\n",
       " 'RMS_phase',\n",
       " 'Time_btwn_obs',\n",
       " 'F',\n",
       " 'BX_GSE',\n",
       " 'BY_GSE',\n",
       " 'BZ_GSE',\n",
       " 'BY_GSM',\n",
       " 'BZ_GSM',\n",
       " 'RMS_SD_B',\n",
       " 'RMS_SD_fld_vec',\n",
       " 'flow_speed',\n",
       " 'Vx',\n",
       " 'Vy',\n",
       " 'Vz',\n",
       " 'proton_density',\n",
       " 'T',\n",
       " 'NaNp_Ratio',\n",
       " 'Pressure',\n",
       " 'E',\n",
       " 'Beta',\n",
       " 'Mach_num',\n",
       " 'Mgs_mach_num',\n",
       " 'x',\n",
       " 'y',\n",
       " 'z',\n",
       " 'BSN_x',\n",
       " 'BSN_y',\n",
       " 'BSN_z',\n",
       " 'AE_INDEX',\n",
       " 'AL_INDEX',\n",
       " 'AU_INDEX',\n",
       " 'SYM_D',\n",
       " 'SYM_H',\n",
       " 'ASY_D',\n",
       " 'ASY_H']"
      ]
     },
     "execution_count": 44,
     "metadata": {},
     "output_type": "execute_result"
    }
   ],
   "source": [
    "pyspedas.omni.data(trange=['2013-11-5', '2013-11-6'])"
   ]
  },
  {
   "cell_type": "code",
   "execution_count": 45,
   "metadata": {},
   "outputs": [],
   "source": [
    "tplot(['BX_GSE', 'BY_GSE', 'BZ_GSE', 'flow_speed', 'Vx', 'Vy', 'Vz', 'SYM_H'])"
   ]
  },
  {
   "cell_type": "markdown",
   "metadata": {},
   "source": [
    "# Working with the data values\n",
    "\n",
    "You can use get_data to extract the data values from the tplot variables:"
   ]
  },
  {
   "cell_type": "code",
   "execution_count": 46,
   "metadata": {},
   "outputs": [],
   "source": [
    "from pytplot import get_data"
   ]
  },
  {
   "cell_type": "code",
   "execution_count": 47,
   "metadata": {},
   "outputs": [],
   "source": [
    "bx_times, bx_values = get_data('BX_GSE')"
   ]
  },
  {
   "cell_type": "markdown",
   "metadata": {},
   "source": [
    "Just as in IDL, times are stored as unix times"
   ]
  },
  {
   "cell_type": "code",
   "execution_count": 48,
   "metadata": {},
   "outputs": [
    {
     "data": {
      "text/plain": [
       "array([1.38360960e+09, 1.38360966e+09, 1.38360972e+09, ...,\n",
       "       1.38369588e+09, 1.38369594e+09, 1.38369600e+09])"
      ]
     },
     "execution_count": 48,
     "metadata": {},
     "output_type": "execute_result"
    }
   ],
   "source": [
    "bx_times"
   ]
  },
  {
   "cell_type": "code",
   "execution_count": 49,
   "metadata": {},
   "outputs": [
    {
     "data": {
      "text/plain": [
       "array([-3.47, -3.65, -3.52, ..., -2.8 , -2.77, -2.77], dtype=float32)"
      ]
     },
     "execution_count": 49,
     "metadata": {},
     "output_type": "execute_result"
    }
   ],
   "source": [
    "bx_values"
   ]
  },
  {
   "cell_type": "markdown",
   "metadata": {},
   "source": [
    "You can convert the unix times to strings using time_string"
   ]
  },
  {
   "cell_type": "code",
   "execution_count": 50,
   "metadata": {},
   "outputs": [],
   "source": [
    "from pyspedas import time_string"
   ]
  },
  {
   "cell_type": "code",
   "execution_count": 51,
   "metadata": {},
   "outputs": [
    {
     "data": {
      "text/plain": [
       "['2013-11-05 00:00:00.000000',\n",
       " '2013-11-05 00:01:00.000000',\n",
       " '2013-11-05 00:02:00.000000',\n",
       " '2013-11-05 00:03:00.000000',\n",
       " '2013-11-05 00:04:00.000000']"
      ]
     },
     "execution_count": 51,
     "metadata": {},
     "output_type": "execute_result"
    }
   ],
   "source": [
    "time_string(bx_times[0:5])"
   ]
  },
  {
   "cell_type": "markdown",
   "metadata": {},
   "source": [
    "You can convert the strings back to unix times using time_double"
   ]
  },
  {
   "cell_type": "code",
   "execution_count": 52,
   "metadata": {},
   "outputs": [],
   "source": [
    "from pyspedas import time_double"
   ]
  },
  {
   "cell_type": "code",
   "execution_count": 53,
   "metadata": {},
   "outputs": [
    {
     "data": {
      "text/plain": [
       "[1383609600.0, 1383609660.0, 1383609720.0, 1383609780.0, 1383609840.0]"
      ]
     },
     "execution_count": 53,
     "metadata": {},
     "output_type": "execute_result"
    }
   ],
   "source": [
    "time_double(time_string(bx_times[0:5]))"
   ]
  },
  {
   "cell_type": "markdown",
   "metadata": {},
   "source": [
    "For energy spectra, the process is similar"
   ]
  },
  {
   "cell_type": "code",
   "execution_count": 54,
   "metadata": {},
   "outputs": [],
   "source": [
    "times, data, energies = get_data('mms1_des_energyspectr_omni_brst')"
   ]
  },
  {
   "cell_type": "markdown",
   "metadata": {},
   "source": [
    "note: burst mode FPI energy spectra are time varying"
   ]
  },
  {
   "cell_type": "code",
   "execution_count": 55,
   "metadata": {},
   "outputs": [
    {
     "data": {
      "text/plain": [
       "array([[1.241000e+01, 1.591000e+01, 2.040000e+01, ..., 1.677878e+04,\n",
       "        2.151425e+04, 2.758621e+04],\n",
       "       [1.096000e+01, 1.405000e+01, 1.802000e+01, ..., 1.481758e+04,\n",
       "        1.899954e+04, 2.436178e+04],\n",
       "       [1.241000e+01, 1.591000e+01, 2.040000e+01, ..., 1.677878e+04,\n",
       "        2.151425e+04, 2.758621e+04],\n",
       "       ...,\n",
       "       [1.241000e+01, 1.591000e+01, 2.040000e+01, ..., 1.677878e+04,\n",
       "        2.151425e+04, 2.758621e+04],\n",
       "       [1.096000e+01, 1.405000e+01, 1.802000e+01, ..., 1.481758e+04,\n",
       "        1.899954e+04, 2.436178e+04],\n",
       "       [1.241000e+01, 1.591000e+01, 2.040000e+01, ..., 1.677878e+04,\n",
       "        2.151425e+04, 2.758621e+04]], dtype=float32)"
      ]
     },
     "execution_count": 55,
     "metadata": {},
     "output_type": "execute_result"
    }
   ],
   "source": [
    "energies"
   ]
  },
  {
   "cell_type": "markdown",
   "metadata": {},
   "source": [
    "Internally, pytplot variables are stored as xarray objects\n",
    "\n",
    "If you're familiar with xarray, you can access the underlying xarray object by setting `xarray=True`"
   ]
  },
  {
   "cell_type": "code",
   "execution_count": 56,
   "metadata": {},
   "outputs": [],
   "source": [
    "xr = get_data('mms1_des_energyspectr_omni_brst', xarray=True)"
   ]
  },
  {
   "cell_type": "code",
   "execution_count": 57,
   "metadata": {},
   "outputs": [
    {
     "data": {
      "text/plain": [
       "<xarray.DataArray 'mms1_des_energyspectr_omni_brst' (time: 4665, v_dim: 32)>\n",
       "array([[6.902426e+07, 7.524391e+07, 1.530568e+07, ..., 0.000000e+00,\n",
       "        1.380648e+05, 8.767070e+04],\n",
       "       [8.470847e+07, 8.416830e+07, 3.919634e+07, ..., 1.159766e+05,\n",
       "        5.190556e+04, 8.258163e+04],\n",
       "       [6.880999e+07, 7.264177e+07, 1.240215e+07, ..., 0.000000e+00,\n",
       "        0.000000e+00, 2.167910e+05],\n",
       "       ...,\n",
       "       [5.763436e+07, 7.759874e+07, 1.129439e+08, ..., 0.000000e+00,\n",
       "        8.355479e+03, 0.000000e+00],\n",
       "       [4.948598e+07, 6.835004e+07, 9.106696e+07, ..., 5.770474e+04,\n",
       "        0.000000e+00, 0.000000e+00],\n",
       "       [5.671574e+07, 7.460176e+07, 1.159612e+08, ..., 1.291919e+05,\n",
       "        0.000000e+00, 0.000000e+00]], dtype=float32)\n",
       "Coordinates:\n",
       "  * time       (time) float64 1.445e+09 1.445e+09 ... 1.445e+09 1.445e+09\n",
       "    spec_bins  (time, v_dim) float32 12.41 15.91 20.4 ... 21514.25 27586.21\n",
       "    v          (time, v_dim) float32 12.41 15.91 20.4 ... 21514.25 27586.21\n",
       "Dimensions without coordinates: v_dim\n",
       "Attributes:\n",
       "    plot_options:  {'xaxis_opt': {'axis_label': 'Time', 'crosshair': 'X', 'x_..."
      ]
     },
     "execution_count": 57,
     "metadata": {},
     "output_type": "execute_result"
    }
   ],
   "source": [
    "xr"
   ]
  },
  {
   "cell_type": "markdown",
   "metadata": {},
   "source": [
    "You can use store_data to create tplot variables"
   ]
  },
  {
   "cell_type": "code",
   "execution_count": 58,
   "metadata": {},
   "outputs": [],
   "source": [
    "from pytplot import store_data"
   ]
  },
  {
   "cell_type": "code",
   "execution_count": 59,
   "metadata": {},
   "outputs": [],
   "source": [
    "store_data('bx_values', data={'x': bx_times, 'y': bx_values})"
   ]
  },
  {
   "cell_type": "code",
   "execution_count": 60,
   "metadata": {},
   "outputs": [],
   "source": [
    "tplot('bx_values')"
   ]
  },
  {
   "cell_type": "markdown",
   "metadata": {},
   "source": [
    "You can use join_vec to join multiple tplot variables into a single tplot variable"
   ]
  },
  {
   "cell_type": "code",
   "execution_count": 61,
   "metadata": {},
   "outputs": [],
   "source": [
    "from pytplot import join_vec"
   ]
  },
  {
   "cell_type": "code",
   "execution_count": 62,
   "metadata": {},
   "outputs": [],
   "source": [
    "join_vec(['BX_GSE', 'BY_GSE', 'BZ_GSE'], new_tvar='OMNI_B_GSE')"
   ]
  },
  {
   "cell_type": "code",
   "execution_count": 63,
   "metadata": {},
   "outputs": [],
   "source": [
    "tplot('OMNI_B_GSE')"
   ]
  },
  {
   "cell_type": "markdown",
   "metadata": {},
   "source": [
    "You can use split_vec to split a vector variable into multiple tplot variables"
   ]
  },
  {
   "cell_type": "code",
   "execution_count": 64,
   "metadata": {},
   "outputs": [],
   "source": [
    "from pytplot import split_vec"
   ]
  },
  {
   "cell_type": "code",
   "execution_count": 65,
   "metadata": {},
   "outputs": [
    {
     "data": {
      "text/plain": [
       "['OMNI_B_GSE_0', 'OMNI_B_GSE_1', 'OMNI_B_GSE_2']"
      ]
     },
     "execution_count": 65,
     "metadata": {},
     "output_type": "execute_result"
    }
   ],
   "source": [
    "split_vec('OMNI_B_GSE')"
   ]
  },
  {
   "cell_type": "code",
   "execution_count": 66,
   "metadata": {},
   "outputs": [],
   "source": [
    "tplot(['OMNI_B_GSE_0', 'OMNI_B_GSE_1', 'OMNI_B_GSE_2'])"
   ]
  },
  {
   "cell_type": "markdown",
   "metadata": {},
   "source": [
    "Set the labels on a tplot variable"
   ]
  },
  {
   "cell_type": "code",
   "execution_count": 67,
   "metadata": {},
   "outputs": [],
   "source": [
    "options('OMNI_B_GSE', 'legend_names', ['Bx GSE', 'By GSE', 'Bz GSE'])"
   ]
  },
  {
   "cell_type": "code",
   "execution_count": 68,
   "metadata": {},
   "outputs": [],
   "source": [
    "tplot('OMNI_B_GSE')"
   ]
  },
  {
   "cell_type": "markdown",
   "metadata": {},
   "source": [
    "To change the colors of the lines (note: the docs for the options are incorrect here)"
   ]
  },
  {
   "cell_type": "code",
   "execution_count": 69,
   "metadata": {},
   "outputs": [],
   "source": [
    "options('OMNI_B_GSE', 'Color', ['b', 'g', 'r'])"
   ]
  },
  {
   "cell_type": "code",
   "execution_count": 70,
   "metadata": {},
   "outputs": [],
   "source": [
    "tplot('OMNI_B_GSE')"
   ]
  },
  {
   "cell_type": "markdown",
   "metadata": {},
   "source": [
    "To change the title on the Y axis"
   ]
  },
  {
   "cell_type": "code",
   "execution_count": 71,
   "metadata": {},
   "outputs": [],
   "source": [
    "options('OMNI_B_GSE', 'ytitle', 'OMNI B-field (nT)')"
   ]
  },
  {
   "cell_type": "code",
   "execution_count": 72,
   "metadata": {},
   "outputs": [],
   "source": [
    "tplot('OMNI_B_GSE')"
   ]
  },
  {
   "cell_type": "markdown",
   "metadata": {},
   "source": [
    "You can change spectra back into line plots using the 'Spec' option"
   ]
  },
  {
   "cell_type": "code",
   "execution_count": 73,
   "metadata": {},
   "outputs": [],
   "source": [
    "options('mms1_des_energyspectr_omni_brst', 'Spec', False)"
   ]
  },
  {
   "cell_type": "code",
   "execution_count": 74,
   "metadata": {},
   "outputs": [
    {
     "name": "stderr",
     "output_type": "stream",
     "text": [
      "01-May-20 10:53:31: /Users/eric/anaconda3/lib/python3.7/site-packages/pyqtgraph/graphicsItems/PlotDataItem.py:533: RuntimeWarning: divide by zero encountered in log10\n",
      "  y = np.log10(y)\n",
      "\n"
     ]
    }
   ],
   "source": [
    "tplot('mms1_des_energyspectr_omni_brst')"
   ]
  },
  {
   "cell_type": "markdown",
   "metadata": {},
   "source": [
    "and convert it back to a spectra"
   ]
  },
  {
   "cell_type": "code",
   "execution_count": 75,
   "metadata": {},
   "outputs": [],
   "source": [
    "options('mms1_des_energyspectr_omni_brst', 'Spec', True)"
   ]
  },
  {
   "cell_type": "code",
   "execution_count": 76,
   "metadata": {},
   "outputs": [],
   "source": [
    "tplot('mms1_des_energyspectr_omni_brst')"
   ]
  },
  {
   "cell_type": "markdown",
   "metadata": {},
   "source": [
    "You can also control ylog and zlog using options"
   ]
  },
  {
   "cell_type": "code",
   "execution_count": 77,
   "metadata": {},
   "outputs": [],
   "source": [
    "options('mms1_des_energyspectr_omni_brst', 'zlog', False)"
   ]
  },
  {
   "cell_type": "code",
   "execution_count": 78,
   "metadata": {},
   "outputs": [],
   "source": [
    "tplot('mms1_des_energyspectr_omni_brst')"
   ]
  },
  {
   "cell_type": "markdown",
   "metadata": {},
   "source": [
    "Global plot options can be set with tplot_options"
   ]
  },
  {
   "cell_type": "code",
   "execution_count": 79,
   "metadata": {},
   "outputs": [],
   "source": [
    "from pytplot import tplot_options"
   ]
  },
  {
   "cell_type": "code",
   "execution_count": 80,
   "metadata": {},
   "outputs": [
    {
     "name": "stdout",
     "output_type": "stream",
     "text": [
      "Help on function tplot_options in module pytplot.tplot_options:\n",
      "\n",
      "tplot_options(option, value)\n",
      "    This function allows the user to set GLOBAL options for the generated plots.\n",
      "    \n",
      "    Parameters:\n",
      "        option : str\n",
      "            The name of the option.  See section below  \n",
      "        value : str/int/float/list\n",
      "            The value of the option.  See section below.  \n",
      "            \n",
      "    Options:\n",
      "        ================  ==========   =====\n",
      "        Options           Value type   Notes\n",
      "        ================  ==========   =====\n",
      "        title             str          Title of the the entire output\n",
      "        title_size        int          Font size of the output\n",
      "        wsize             [int, int]   [height, width], pixel size of the plot window\n",
      "        title_align       int          Offset position in pixels of the title\n",
      "        var_label         srt          Name of the tplot variable to be used as another x axis\n",
      "        alt_range         [flt, flt]   The min and max altitude to be plotted on all alt plots\n",
      "        map_x_range       [int, int]   The min and max longitude to be plotted on all map plots\n",
      "        map_y_range       [int, int]   The min and max latitude to be plotted on all map plots\n",
      "        x_range           [flt, flt]   The min and max x_range (usually time) to be plotted on all Spec/1D plots\n",
      "        data_gap          int          Number of seconds with consecutive nan values allowed before no interp should occur\n",
      "        roi               [str, str]   Times between which there's a region of interest for a user\n",
      "        crosshair         bool         Option allowing crosshairs and crosshair legend\n",
      "        vertical_spacing  int          The space in pixels between two plots\n",
      "        show_all_axes     bool         Whether or not to just use one axis at the bottom of the plot\n",
      "        black_background  bool         Whether or not to make plot backgrounds black w/ white text\n",
      "        ================  ==========   =====\n",
      "    \n",
      "    Returns:\n",
      "        None\n",
      "    \n",
      "    Examples:\n",
      "        >>> # Set the plot title\n",
      "        >>> import pytplot\n",
      "        >>> pytplot.tplot_options('title', 'SWEA Data for Orbit 1563')\n",
      "        \n",
      "        >>> # Set the window size \n",
      "        >>> pytplot.tplot_options('wsize', [1000,500])\n",
      "\n"
     ]
    }
   ],
   "source": [
    "help(tplot_options)"
   ]
  },
  {
   "cell_type": "code",
   "execution_count": 81,
   "metadata": {},
   "outputs": [],
   "source": [
    "tplot_options('title', 'OMNI Bz and Flow Speed')"
   ]
  },
  {
   "cell_type": "code",
   "execution_count": 82,
   "metadata": {},
   "outputs": [],
   "source": [
    "tplot(['BZ_GSM', 'flow_speed'])"
   ]
  },
  {
   "cell_type": "markdown",
   "metadata": {},
   "source": [
    "# How to contribute\n",
    "\n",
    "Try it out! And please report bugs, missing documentation, or any other issues so that we can fix them (feel free to email me or submit them through GitHub issues). If there's a missing dataset or analysis tool that you would like to see included, please let us know!  "
   ]
  },
  {
   "cell_type": "code",
   "execution_count": null,
   "metadata": {},
   "outputs": [],
   "source": []
  },
  {
   "cell_type": "code",
   "execution_count": null,
   "metadata": {},
   "outputs": [],
   "source": []
  }
 ],
 "metadata": {
  "kernelspec": {
   "display_name": "Python 3",
   "language": "python",
   "name": "python3"
  },
  "language_info": {
   "codemirror_mode": {
    "name": "ipython",
    "version": 3
   },
   "file_extension": ".py",
   "mimetype": "text/x-python",
   "name": "python",
   "nbconvert_exporter": "python",
   "pygments_lexer": "ipython3",
   "version": "3.7.2"
  }
 },
 "nbformat": 4,
 "nbformat_minor": 2
}
