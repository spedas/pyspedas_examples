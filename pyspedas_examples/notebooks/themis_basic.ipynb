{
 "cells": [
  {
   "cell_type": "markdown",
   "metadata": {},
   "source": [
    "<h3>Demo of downloading and plotting data using pyspedas.</h3>\n",
    "\n",
    "<i>Basic demo of main pyspedas functions.</i>\n",
    "<hr>"
   ]
  },
  {
   "cell_type": "markdown",
   "metadata": {},
   "source": [
    "Import the necessary libraries."
   ]
  },
  {
   "cell_type": "code",
   "execution_count": 1,
   "metadata": {},
   "outputs": [],
   "source": [
    "import pyspedas\n",
    "import pytplot"
   ]
  },
  {
   "cell_type": "markdown",
   "metadata": {},
   "source": [
    "Verify that the libraries have been imported successfully and show the version of pyspedas and the location of preferences."
   ]
  },
  {
   "cell_type": "code",
   "execution_count": 2,
   "metadata": {},
   "outputs": [
    {
     "name": "stdout",
     "output_type": "stream",
     "text": [
      "Preferences file: c:\\users\\nikos\\documents\\github\\spedas_pyspedas\\pyspedas\\spd_prefs_txt.py\n",
      "pyspedas version: 0.8.18\n"
     ]
    }
   ],
   "source": [
    "pyspedas.version()\n"
   ]
  },
  {
   "cell_type": "markdown",
   "metadata": {},
   "source": [
    "Delete any existing pytplot variables"
   ]
  },
  {
   "cell_type": "code",
   "execution_count": 3,
   "metadata": {},
   "outputs": [],
   "source": [
    "pytplot.del_data()"
   ]
  },
  {
   "cell_type": "markdown",
   "metadata": {},
   "source": [
    "Download THEMIS state data for probe tha and dates 2015-12-31 to 2016-01-01. <br>\n",
    "Two cdf files should be downloaded and the output should be a list of THEMIS variables that have been loaded.<br>\n",
    "Time clip to the requested times will be applied automatically. "
   ]
  },
  {
   "cell_type": "code",
   "execution_count": 5,
   "metadata": {},
   "outputs": [
    {
     "name": "stdout",
     "output_type": "stream",
     "text": [
      "c:\\users\\nikos\\documents\\github\\spedas_pyspedas\\pyspedas\\spd_prefs_txt.py\n",
      "Preferences file: c:\\users\\nikos\\documents\\github\\spedas_pyspedas\\pyspedas\\spd_prefs_txt.py\n",
      "ok\n",
      "1. File was downloaded. Location: C:\\\\Datapy\\\\themis\\tha\\l1\\state\\2015\\tha_l1_state_20151231_v02.cdf\n",
      "ok\n",
      "2. File was downloaded. Location: C:\\\\Datapy\\\\themis\\tha\\l1\\state\\2016\\tha_l1_state_20160101_v02.cdf\n",
      "Time clip was applied to: tha_pos\n",
      "Time clip was applied to: tha_vel\n",
      "Time clip was applied to: tha_spin_initial_delta_phi\n",
      "Time clip was applied to: tha_spin_idpu_spinper\n",
      "Time clip was applied to: tha_spin_segflags\n",
      "Time clip was applied to: tha_spin_ecl_initial_delta_phi\n",
      "Time clip was applied to: tha_spin_ecl_idpu_spinper\n",
      "Time clip was applied to: tha_spin_ecl_segflags\n",
      "Time clip was applied to: tha_pos_gse\n",
      "Time clip was applied to: tha_pos_gsm\n",
      "Time clip was applied to: tha_vel_gse\n",
      "Time clip was applied to: tha_vel_gsm\n",
      "Time clip was applied to: tha_pos_sel\n",
      "Time clip was applied to: tha_pos_sse\n",
      "Time clip was applied to: tha_vel_sel\n",
      "Time clip was applied to: tha_vel_sse\n",
      "Downloaded 2 files.\n",
      "tplot variables:\n",
      "['tha_pos', 'tha_vel', 'tha_spin_initial_delta_phi', 'tha_spin_idpu_spinper', 'tha_spin_segflags', 'tha_spin_ecl_initial_delta_phi', 'tha_spin_ecl_idpu_spinper', 'tha_spin_ecl_segflags', 'tha_pos_gse', 'tha_pos_gsm', 'tha_vel_gse', 'tha_vel_gsm', 'tha_pos_sel', 'tha_pos_sse', 'tha_vel_sel', 'tha_vel_sse']\n",
      "Data loading finished.\n"
     ]
    },
    {
     "name": "stderr",
     "output_type": "stream",
     "text": [
      "Exception ignored in: <socket.socket [closed] fd=3828, family=AddressFamily.AF_INET, type=SocketKind.SOCK_STREAM, proto=0>\n",
      "ResourceWarning: unclosed <socket.socket [closed] fd=3828, family=AddressFamily.AF_INET, type=SocketKind.SOCK_STREAM, proto=0>\n",
      "Exception ignored in: <socket.socket [closed] fd=1084, family=AddressFamily.AF_INET, type=SocketKind.SOCK_STREAM, proto=0>\n",
      "ResourceWarning: unclosed <socket.socket [closed] fd=1084, family=AddressFamily.AF_INET, type=SocketKind.SOCK_STREAM, proto=0>\n",
      "Exception ignored in: <socket.socket [closed] fd=3960, family=AddressFamily.AF_INET, type=SocketKind.SOCK_STREAM, proto=0>\n",
      "ResourceWarning: unclosed <socket.socket [closed] fd=3960, family=AddressFamily.AF_INET, type=SocketKind.SOCK_STREAM, proto=0>\n",
      "Exception ignored in: <socket.socket [closed] fd=3952, family=AddressFamily.AF_INET, type=SocketKind.SOCK_STREAM, proto=0>\n",
      "ResourceWarning: unclosed <socket.socket [closed] fd=3952, family=AddressFamily.AF_INET, type=SocketKind.SOCK_STREAM, proto=0>\n"
     ]
    }
   ],
   "source": [
    "dtime = ['2015-12-31 00:00:00', '2016-01-01 12:00:00']\n",
    "pyspedas.load_data('themis', dtime, ['tha'], 'state', 'l1')"
   ]
  },
  {
   "cell_type": "markdown",
   "metadata": {},
   "source": [
    "Plot the \"tha\" probe position. A new window should open with the relevant plot. "
   ]
  },
  {
   "cell_type": "code",
   "execution_count": 7,
   "metadata": {},
   "outputs": [],
   "source": [
    "pytplot.tplot([\"tha_vel\"])"
   ]
  },
  {
   "cell_type": "code",
   "execution_count": null,
   "metadata": {},
   "outputs": [],
   "source": []
  }
 ],
 "metadata": {
  "kernelspec": {
   "display_name": "Python 3",
   "language": "python",
   "name": "python3"
  },
  "language_info": {
   "codemirror_mode": {
    "name": "ipython",
    "version": 3
   },
   "file_extension": ".py",
   "mimetype": "text/x-python",
   "name": "python",
   "nbconvert_exporter": "python",
   "pygments_lexer": "ipython3",
   "version": "3.7.3"
  }
 },
 "nbformat": 4,
 "nbformat_minor": 2
}
