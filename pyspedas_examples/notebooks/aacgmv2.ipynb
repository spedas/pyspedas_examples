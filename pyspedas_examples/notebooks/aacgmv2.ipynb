{
 "cells": [
  {
   "cell_type": "markdown",
   "metadata": {},
   "source": [
    "# AACGM-v2 library crib\n",
    "\n",
    "This notebook demonstrates how to use the python library [aacgmv2](https://github.com/aburrell/aacgmv2) by Angeline Burrell. This library is a Python wrapper for the AACGM-v2 C library.\n",
    "\n",
    "The examples in this notebook are similar to the examples included in the IDL version of the [AACGM-v2 v2.7 release](https://superdarn.thayer.dartmouth.edu/aacgm.html). A similar crib is also included in IDL SPEDAS (see the IDL SPEDAS file external/aacgm_v2/aacgmidl_v2_crib.pro). \n",
    "\n",
    "Below, we show the IDL results (as of March 2025) in order to compare the python results to the IDL results. In all cases they should be the same or very close."
   ]
  },
  {
   "cell_type": "code",
   "execution_count": 15,
   "metadata": {},
   "outputs": [
    {
     "name": "stdout",
     "output_type": "stream",
     "text": [
      "aacgmv2 has been imported\n"
     ]
    }
   ],
   "source": [
    "# In python, the user needs to manually install the aacgmv2 library:   \n",
    "# pip install aacgmv2\n",
    "#\n",
    "# If the library is not installed, the following will print a message.\n",
    "\n",
    "try:\n",
    "    import aacgmv2\n",
    "    print(\"aacgmv2 has been imported\")  \n",
    "except ImportError:\n",
    "    print(\"aacgmv2 is not installed\")   \n",
    "\n",
    "\n",
    "# Import other required libraries.\n",
    "import datetime as dt\n",
    "import numpy as np"
   ]
  },
  {
   "cell_type": "markdown",
   "metadata": {},
   "source": [
    "## 1. Test single input G2A.\n",
    "\n",
    "The python function aacgmv2.convert_latlon() is similar to the IDL function cnvcoord_v2.\n",
    "\n",
    "<sub>\n",
    "\n",
    "Expected output (using IDL, with date 1997-06-25):\n",
    "\n",
    "| MLAT       | MLON        | R          |\n",
    "|------------|-------------|------------|\n",
    "| 44.594873  | -167.37238  | 1.0165480  |\n",
    "\n",
    "</sub>"
   ]
  },
  {
   "cell_type": "code",
   "execution_count": 16,
   "metadata": {},
   "outputs": [
    {
     "name": "stdout",
     "output_type": "stream",
     "text": [
      "Actual output (python):\n",
      "[  44.59487304 -167.37238414    1.01654805]\n"
     ]
    }
   ],
   "source": [
    "# Define the date.\n",
    "dtime = dt.datetime(1997, 6, 25, 0, 0, 0)\n",
    "\n",
    "# Convert between geomagnetic coordinates and AACGM coordinates.\n",
    "lat0 = 50.\n",
    "lon0 = 120.\n",
    "alt  = 111.\n",
    "p = np.array(aacgmv2.convert_latlon(lat0, lon0, alt, dtime))\n",
    "\n",
    "# Print results.\n",
    "print(\"Actual output (python):\")\n",
    "print(p)"
   ]
  },
  {
   "cell_type": "markdown",
   "metadata": {},
   "source": [
    "## 2. Test field line tracing, single input, G2A Trace.\n",
    "\n",
    "If we want to use line tracing instead of IGRF coefficients, we need to set method_code=\"trace\".\n",
    "\n",
    "<sub>\n",
    "\n",
    "Expected output (using IDL, with date 1997-06-25):\n",
    "\n",
    "| MLAT       | MLON        | R          |\n",
    "|------------|-------------|------------|\n",
    "| 44.591538  | -167.37413  | 1.0165480  |\n",
    "\n",
    "</sub>"
   ]
  },
  {
   "cell_type": "code",
   "execution_count": 17,
   "metadata": {},
   "outputs": [
    {
     "name": "stdout",
     "output_type": "stream",
     "text": [
      "Actual output (python):\n",
      "[  44.59153809 -167.37412764    1.01654805]\n"
     ]
    }
   ],
   "source": [
    "# Define the date.\n",
    "dtime = dt.datetime(1997, 6, 25, 0, 0, 0)\n",
    "\n",
    "# Convert between geomagnetic coordinates and AACGM coordinates using trace.\n",
    "lat0 = 50.\n",
    "lon0 = 120.\n",
    "alt  = 111.\n",
    "p = np.array(aacgmv2.convert_latlon(lat0, lon0, alt, dtime, method_code=\"trace\"))\n",
    "\n",
    "# Print results.\n",
    "print(\"Actual output (python):\")\n",
    "print(p)"
   ]
  },
  {
   "cell_type": "markdown",
   "metadata": {},
   "source": [
    "## 3. Test vector input.\n",
    "\n",
    "When we have vector inputs instead of scalars, we must use the function aacgmv2.convert_latlon_arr().\n",
    "\n",
    "<sub>\n",
    "\n",
    "Expected output (using IDL):\n",
    "\n",
    "|   GLAT         |   GLON         |   HEIGHT    |   \n",
    "|----------------|----------------|-------------|\n",
    "|   45.207731    |  -166.00805    |   1.0165480 |\n",
    "|   51.964642    |   123.86140    |   1.0380817 |\n",
    "|  -44.966218    |  -34.130621    |   1.0932993 |\n",
    "|  -88.619636    |   87.301848    |   1.0450458 |\n",
    "|   38.043788    |   89.310874    |   1.2983149 |\n",
    "|   19.391025    |   122.80231    |   1.0241234 |\n",
    "|   21.336952    |   17.480107    |   1.0527631 |\n",
    "\n",
    "</sub>"
   ]
  },
  {
   "cell_type": "code",
   "execution_count": 18,
   "metadata": {},
   "outputs": [
    {
     "name": "stdout",
     "output_type": "stream",
     "text": [
      "Actual output (python):\n",
      "[[  45.20773144 -166.00805111    1.01654805]\n",
      " [  51.9646415   123.86139828    1.0380817 ]\n",
      " [ -44.96621805  -34.13062066    1.0932993 ]\n",
      " [ -88.61963647   87.30184773    1.04504578]\n",
      " [  38.04378847   89.31087357    1.29831494]\n",
      " [  19.39102518  122.80230958    1.02412339]\n",
      " [  21.33695241   17.48010654    1.05276313]]\n"
     ]
    }
   ],
   "source": [
    "# Define the date.\n",
    "dtime = dt.datetime(2014, 1, 22, 0, 0, 0)\n",
    "\n",
    "# Convert between geomagnetic coordinates and AACGM coordinates using vector input.\n",
    "input = np.array([[50.,120.,111.], [55.,50.,250.], [-50.,-120.,600.], [-75.,120.,300.], \n",
    "    [33,15,1900], [23,50,150], [11,-60,330]])\n",
    "\n",
    "p = np.array(aacgmv2.convert_latlon_arr(input[:,0], input[:,1], input[:,2], dtime))\n",
    "\n",
    "# Print results\n",
    "print('Actual output (python):')\n",
    "# Print the transposed array, to make it easier to compare with the expected output from IDL.\n",
    "print(p.T)"
   ]
  },
  {
   "cell_type": "markdown",
   "metadata": {},
   "source": [
    "## 4. Test inverse transformation.\n",
    "\n",
    "For Geographic (geodetic) to AACGM-v2 we use method_code=\"G2A\".\n",
    "\n",
    "For AACGM-v2 to geographic (geodetic) we use method_code=\"A2G\".\n",
    "\n",
    "\n",
    "<sub>\n",
    "\n",
    "Expected output (using IDL):\n",
    "\n",
    "|   GLAT       |   GLON       |   HEIGHT      |   Description                                  |\n",
    "|-------------:|-------------:|--------------:|------------------------------------------------|\n",
    "|  50.000000   |  12.000000   |  450.000000  |  original geographic (lat lon height)          |\n",
    "|  47.262737   |  88.118328   |  1.069756    |  AACGM coordinates (coefficients)              |\n",
    "|  47.267521   |  88.113706   |  1.069756    |  AACGM coordinates (field-line tracing)        |\n",
    "|  49.962937   |  11.990158   |  449.986370  |  Inverse xform using coefficients              |\n",
    "|  49.999998   |  12.000000   |  450.000013  |  Inverse xform using field-line tracing        |\n",
    "\n",
    "Note that the inverse transformation is less accurate than the\n",
    " forward transformation when using coefficients. Using field line\n",
    " tracing for the inverse transformation restores accuracy.\n",
    "</sub>\n"
   ]
  },
  {
   "cell_type": "code",
   "execution_count": 19,
   "metadata": {},
   "outputs": [
    {
     "name": "stdout",
     "output_type": "stream",
     "text": [
      "Actual output (python):\n",
      "Original geographic (lat lon height)\n",
      "50.0 12.0 450.0\n",
      "\n",
      "AACGM coordinates using coefficients\n",
      "(47.262737200263764, 88.11832800392624, 1.0697559668683327)\n",
      "AACGM coordinates using field-line tracing\n",
      "(47.2675213539154, 88.11370644927747, 1.0697559668683327)\n",
      "\n",
      "Inverse xform using coefficients\n",
      "(49.962936919802324, 11.99015760144865, 449.98635683386465)\n",
      "Inverse xform using field-line tracing\n",
      "(49.99999874698483, 11.999999989835468, 449.99999953884685)\n"
     ]
    }
   ],
   "source": [
    "lat0 = 50.\n",
    "lon0 = 12.\n",
    "alt  = 450.\n",
    "RE = 6371.2\n",
    "dtime = dt.datetime(2014, 1, 22, 0, 0, 0)\n",
    "p = aacgmv2.convert_latlon(lat0,lon0, alt, dtime, method_code=\"G2A\")         # G2A using coefficients\n",
    "s = aacgmv2.convert_latlon(lat0,lon0, alt, dtime, method_code=\"G2A|trace\")   # G2A using field-line tracing\n",
    "hp = RE*(p[2]-1.)\n",
    "hs = RE*(s[2]-1.)\n",
    "q = aacgmv2.convert_latlon(p[0], p[1], hp, dtime, method_code=\"A2G\")        # inverse xform using coeffs\n",
    "r = aacgmv2.convert_latlon(s[0], s[1], hs, dtime, method_code=\"A2G|trace\")  # inv using tracing\n",
    "\n",
    "# Print results\n",
    "print('Actual output (python):')\n",
    "print(\"Original geographic (lat lon height)\")\n",
    "print(lat0, lon0, alt)  \n",
    "print(\"\")\n",
    "print(\"AACGM coordinates using coefficients\")\n",
    "print(p)\n",
    "print(\"AACGM coordinates using field-line tracing\")\n",
    "print(s)\n",
    "print(\"\")\n",
    "print(\"Inverse xform using coefficients\")\n",
    "print(q)\n",
    "print(\"Inverse xform using field-line tracing\")\n",
    "print(r) "
   ]
  },
  {
   "cell_type": "markdown",
   "metadata": {},
   "source": [
    "## 5. Magnetic local time (MLT)  \n",
    "\n",
    "For MLT, use the function aacgmv2.convert_mlt(arr, dtime, m2a=False).\n",
    "\n",
    "The parameter m2a=True converts MLT to AACGM-v2 longitude, while m2a=False (the default) converts magnetic longitude to MLT.\n",
    "\n",
    "<sub>\n",
    "\n",
    "Expected output (using IDL):\n",
    "\n",
    "| GLAT       | GLON        | HEIGHT      | MLAT       | MLON        | R         | MLT       |\n",
    "|------------|-------------|-------------|------------|-------------|-----------|-----------|\n",
    "| 77.000000  | -88.000000  | 300.000000  | 85.518716  | -25.478611  | 1.044990  | 1.412911  |\n",
    "| 77.000000  | -88.000000  | 300.000000  | 85.515863  | -25.478538  | 1.044990  | 1.412915  |\n",
    "\n",
    "</sub>"
   ]
  },
  {
   "cell_type": "code",
   "execution_count": 20,
   "metadata": {},
   "outputs": [
    {
     "name": "stdout",
     "output_type": "stream",
     "text": [
      "Actual output (python):\n",
      " GLAT       GLON        HEIGHT      MLAT       MLON       R         MLT\n",
      " 77.000000  -88.000000  300.000000  85.518716  -25.478611 1.044990  1.412911\n",
      " 77.000000  -88.000000  300.000000  85.515863  -25.478538 1.044990  1.412915\n"
     ]
    }
   ],
   "source": [
    "dtime = dt.datetime(2003, 5, 17, 7, 53, 16)\n",
    "lat = 77.0 \n",
    "lon = -88.0 \n",
    "hgt = 300.0\n",
    "p = [lat, lon, hgt]  #   input in geographic coordinates\n",
    "p2 = aacgmv2.convert_latlon(lat, lon, hgt, dtime)   # compute AACGM-v2 coordinates of point\n",
    "m2 = aacgmv2.convert_mlt(p2[1], dtime)   # compute MLT using AACGM-v2 longitude\n",
    "p3 = aacgmv2.convert_latlon(lat, lon, hgt, dtime, method_code=\"trace\")    # compute AACGM-v2 coordinates of point\n",
    "m3 = aacgmv2.convert_mlt(p3[1], dtime)              # compute MLT using AACGM-v2 longitude\n",
    "\n",
    "# Print results\n",
    "print('Actual output (python):')\n",
    "fmt = \"{:10.6f} {:11.6f} {:11.6f} {:10.6f} {:11.6f} {:8.6f}  {:8.6f}\"\n",
    "print(' GLAT       GLON        HEIGHT      MLAT       MLON       R         MLT')\n",
    "print(fmt.format(lat, lon, hgt, p2[0], p2[1], p2[2], m2[0]))\n",
    "print(fmt.format(lat, lon, hgt, p3[0], p3[1], p3[2], m3[0]))"
   ]
  },
  {
   "cell_type": "markdown",
   "metadata": {},
   "source": [
    "## 6. MLT for vector input\n",
    "\n",
    "This example shows how to use vector input.\n",
    "\n",
    "\n",
    "<sub>\n",
    "\n",
    "Expected output (using IDL):\n",
    "\n",
    "| GLAT       | GLON       | HEIGHT     | MLAT       | MLON       | R         | MLT      |\n",
    "|------------|------------|------------|------------|------------|-----------|----------|\n",
    "| 45.000000  | 0.000000   | 150.000000 | 40.281106  | 76.676596  | 1.022961  | 8.223258 |\n",
    "| 45.000000  | 1.000000   | 150.000000 | 40.241518  | 77.499622  | 1.022961  | 8.278126 |\n",
    "| 45.000000  | 2.000000   | 150.000000 | 40.207406  | 78.326105  | 1.022961  | 8.333225 |\n",
    "| 45.000000  | 3.000000   | 150.000000 | 40.178556  | 79.156156  | 1.022961  | 8.388562 |\n",
    "| 45.000000  | 4.000000   | 150.000000 | 40.154752  | 79.989873  | 1.022961  | 8.444143 |\n",
    "| 45.000000  | 5.000000   | 150.000000 | 40.135781  | 80.827344  | 1.022961  | 8.499974 |\n",
    "| 45.000000  | 6.000000   | 150.000000 | 40.121428  | 81.668645  | 1.022961  | 8.556061 |\n",
    "| 45.000000  | 7.000000   | 150.000000 | 40.111480  | 82.513848  | 1.022961  | 8.612408 |\n",
    "| 45.000000  | 8.000000   | 150.000000 | 40.105725  | 83.363012  | 1.022961  | 8.669019 |\n",
    "| 45.000000  | 9.000000   | 150.000000 | 40.103954  | 84.216191  | 1.022961  | 8.725897 |\n",
    "| 45.000000  | 10.000000  | 150.000000 | 40.105959  | 85.073434  | 1.022961  | 8.783047 |\n",
    "| 45.000000  | 11.000000  | 150.000000 | 40.111537  | 85.934780  | 1.022961  | 8.840470 |\n",
    "| 45.000000  | 12.000000  | 150.000000 | 40.120485  | 86.800267  | 1.022961  | 8.898169 |\n",
    "| 45.000000  | 13.000000  | 150.000000 | 40.132603  | 87.669924  | 1.022961  | 8.956146 |\n",
    "| 45.000000  | 14.000000  | 150.000000 | 40.147694  | 88.543778  | 1.022961  | 9.014403 |\n",
    "| 45.000000  | 15.000000  | 150.000000 | 40.165563  | 89.421850  | 1.022961  | 9.072941 |\n",
    "| 45.000000  | 16.000000  | 150.000000 | 40.186016  | 90.304158  | 1.022961  | 9.131762 |\n",
    "| 45.000000  | 17.000000  | 150.000000 | 40.208861  | 91.190715  | 1.022961  | 9.190866 |\n",
    "| 45.000000  | 18.000000  | 150.000000 | 40.233909  | 92.081530  | 1.022961  | 9.250253 |\n",
    "| 45.000000  | 19.000000  | 150.000000 | 40.260970  | 92.976609  | 1.022961  | 9.309925 |\n",
    "\n",
    "</sub>"
   ]
  },
  {
   "cell_type": "code",
   "execution_count": 21,
   "metadata": {},
   "outputs": [
    {
     "name": "stdout",
     "output_type": "stream",
     "text": [
      " GLAT       GLON        HEIGHT      MLAT       MLON       R         MLT\n",
      " 45.000000    0.000000  150.000000  40.281106   76.676596 1.022961  8.223258\n",
      " 45.000000    1.000000  150.000000  40.241518   77.499622 1.022961  8.278126\n",
      " 45.000000    2.000000  150.000000  40.207406   78.326105 1.022961  8.333225\n",
      " 45.000000    3.000000  150.000000  40.178556   79.156156 1.022961  8.388562\n",
      " 45.000000    4.000000  150.000000  40.154752   79.989873 1.022961  8.444143\n",
      " 45.000000    5.000000  150.000000  40.135781   80.827344 1.022961  8.499974\n",
      " 45.000000    6.000000  150.000000  40.121428   81.668645 1.022961  8.556061\n",
      " 45.000000    7.000000  150.000000  40.111480   82.513848 1.022961  8.612408\n",
      " 45.000000    8.000000  150.000000  40.105725   83.363012 1.022961  8.669019\n",
      " 45.000000    9.000000  150.000000  40.103954   84.216191 1.022961  8.725897\n",
      " 45.000000   10.000000  150.000000  40.105959   85.073434 1.022961  8.783047\n",
      " 45.000000   11.000000  150.000000  40.111537   85.934780 1.022961  8.840470\n",
      " 45.000000   12.000000  150.000000  40.120485   86.800267 1.022961  8.898169\n",
      " 45.000000   13.000000  150.000000  40.132603   87.669924 1.022961  8.956146\n",
      " 45.000000   14.000000  150.000000  40.147694   88.543778 1.022961  9.014403\n",
      " 45.000000   15.000000  150.000000  40.165563   89.421850 1.022961  9.072941\n",
      " 45.000000   16.000000  150.000000  40.186016   90.304158 1.022961  9.131762\n",
      " 45.000000   17.000000  150.000000  40.208861   91.190715 1.022961  9.190866\n",
      " 45.000000   18.000000  150.000000  40.233909   92.081530 1.022961  9.250253\n",
      " 45.000000   19.000000  150.000000  40.260970   92.976609 1.022961  9.309925\n"
     ]
    }
   ],
   "source": [
    "dtime = dt.datetime(2003, 5, 17, 7, 53, 16)\n",
    "npts = 20\n",
    "lons = np.arange(npts, dtype=float)   \n",
    "lats = 45.0 + np.zeros(npts, dtype=float)   \n",
    "hgts = 150.0 + np.zeros(npts, dtype=float)  \n",
    "\n",
    "p4 = aacgmv2.convert_latlon_arr(lats, lons, hgts, dtime)\n",
    "m4 = aacgmv2.convert_mlt(p4[1], dtime)   # compute MLT using AACGM-v2 longitude\n",
    "\n",
    "# Print results in a table format\n",
    "fmt = \"{:10.6f} {:11.6f} {:11.6f} {:10.6f} {:11.6f} {:8.6f}  {:8.6f}\"\n",
    "\n",
    "# Print the header\n",
    "print(f\" GLAT       GLON        HEIGHT      MLAT       MLON       R         MLT\") \n",
    "\n",
    "# Print the table\n",
    "for k in range(npts):\n",
    "    print(f\"{fmt.format(lats[k], lons[k], hgts[k], p4[0][k], p4[1][k], p4[2][k], m4[k])}\")"
   ]
  }
 ],
 "metadata": {
  "kernelspec": {
   "display_name": "pyspedas",
   "language": "python",
   "name": "python3"
  },
  "language_info": {
   "codemirror_mode": {
    "name": "ipython",
    "version": 3
   },
   "file_extension": ".py",
   "mimetype": "text/x-python",
   "name": "python",
   "nbconvert_exporter": "python",
   "pygments_lexer": "ipython3",
   "version": "3.11.9"
  }
 },
 "nbformat": 4,
 "nbformat_minor": 2
}
